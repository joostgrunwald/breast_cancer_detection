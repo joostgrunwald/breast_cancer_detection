{
 "cells": [
  {
   "cell_type": "code",
   "execution_count": 1,
   "metadata": {},
   "outputs": [],
   "source": [
    "# import dependencies\n",
    "import seaborn as sns\n",
    "import numpy as np\n",
    "import pandas as pd \n",
    "import matplotlib.pyplot as plt"
   ]
  },
  {
   "cell_type": "code",
   "execution_count": 2,
   "metadata": {},
   "outputs": [],
   "source": [
    "#In machine learning and data science we often use .csv files.\n",
    "#.csv stands for comma seperated files, meaning the columns of the rows are seperated by commas.\n",
    "#In python we use the pandas module to work with csv files, you can for now think of csv files as huge excel sheets containing data\n",
    "#https://www.geeksforgeeks.org/python-pandas-dataframe/"
   ]
  }
 ],
 "metadata": {
  "interpreter": {
   "hash": "20ee12ec6a031f89b1237c555ce80a9d6de1f09b628b00ba679b165d7a3eac3c"
  },
  "kernelspec": {
   "display_name": "Python 3.8.8 64-bit",
   "language": "python",
   "name": "python3"
  },
  "language_info": {
   "codemirror_mode": {
    "name": "ipython",
    "version": 3
   },
   "file_extension": ".py",
   "mimetype": "text/x-python",
   "name": "python",
   "nbconvert_exporter": "python",
   "pygments_lexer": "ipython3",
   "version": "3.8.8"
  },
  "orig_nbformat": 4
 },
 "nbformat": 4,
 "nbformat_minor": 2
}
